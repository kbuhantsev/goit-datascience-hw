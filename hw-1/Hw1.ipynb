{
 "cells": [
  {
   "cell_type": "code",
   "id": "initial_id",
   "metadata": {
    "collapsed": true,
    "ExecuteTime": {
     "end_time": "2024-06-07T07:04:58.173380Z",
     "start_time": "2024-06-07T07:04:57.612632Z"
    }
   },
   "source": "import numpy as np",
   "outputs": [],
   "execution_count": 1
  },
  {
   "metadata": {},
   "cell_type": "markdown",
   "source": "1. Створіть одновимірний масив (вектор) з першими 10-ма натуральними числами та виведіть його значення.",
   "id": "1e5063161e4aed4d"
  },
  {
   "metadata": {
    "ExecuteTime": {
     "end_time": "2024-06-07T12:45:53.979868Z",
     "start_time": "2024-06-07T12:45:53.970869Z"
    }
   },
   "cell_type": "code",
   "source": [
    "a = np.array([i for i in range(1,11)], dtype=float)\n",
    "a"
   ],
   "id": "618f0b16aa08addf",
   "outputs": [
    {
     "data": {
      "text/plain": [
       "array([ 1.,  2.,  3.,  4.,  5.,  6.,  7.,  8.,  9., 10.])"
      ]
     },
     "execution_count": 22,
     "metadata": {},
     "output_type": "execute_result"
    }
   ],
   "execution_count": 22
  },
  {
   "metadata": {},
   "cell_type": "markdown",
   "source": "2. Створіть двовимірний масив (матрицю) розміром 3x3, заповніть його нулями та виведіть його значення.",
   "id": "9315d249b6b8d17d"
  },
  {
   "metadata": {
    "ExecuteTime": {
     "end_time": "2024-06-07T12:52:44.517493Z",
     "start_time": "2024-06-07T12:52:44.507979Z"
    }
   },
   "cell_type": "code",
   "source": [
    "a = np.zeros((3, 3), dtype=int)\n",
    "a"
   ],
   "id": "5559dcd66fccc3e0",
   "outputs": [
    {
     "data": {
      "text/plain": [
       "array([[0, 0, 0],\n",
       "       [0, 0, 0],\n",
       "       [0, 0, 0]])"
      ]
     },
     "execution_count": 28,
     "metadata": {},
     "output_type": "execute_result"
    }
   ],
   "execution_count": 28
  },
  {
   "metadata": {},
   "cell_type": "markdown",
   "source": "3. Створіть масив розміром 5x5, заповніть його випадковими цілими числами в діапазоні від 1 до 10 та виведіть його значення.",
   "id": "179a3e4a6958b648"
  },
  {
   "metadata": {
    "ExecuteTime": {
     "end_time": "2024-06-07T13:02:18.418073Z",
     "start_time": "2024-06-07T13:02:18.407641Z"
    }
   },
   "cell_type": "code",
   "source": [
    "result_array = []\n",
    "for _ in range(5):\n",
    "    result_array.append(np.random.randint(1, 10, 5))\n",
    "\n",
    "a = np.array(result_array, dtype=float)\n",
    "a"
   ],
   "id": "cbb9eb3ae9c4d517",
   "outputs": [
    {
     "data": {
      "text/plain": [
       "array([[7., 9., 7., 9., 7.],\n",
       "       [9., 4., 1., 8., 8.],\n",
       "       [3., 9., 5., 7., 3.],\n",
       "       [9., 1., 9., 7., 7.],\n",
       "       [4., 7., 8., 7., 1.]])"
      ]
     },
     "execution_count": 31,
     "metadata": {},
     "output_type": "execute_result"
    }
   ],
   "execution_count": 31
  },
  {
   "metadata": {},
   "cell_type": "markdown",
   "source": "4. Створіть масив розміром 4x4, заповніть його випадковими дійсними числами в діапазоні від 0 до 1 та виведіть його значення.",
   "id": "4ac0086ff965df3"
  },
  {
   "metadata": {
    "ExecuteTime": {
     "end_time": "2024-06-06T14:38:55.014094Z",
     "start_time": "2024-06-06T14:38:55.004307Z"
    }
   },
   "cell_type": "code",
   "source": [
    "result_array = []\n",
    "for _ in range(4):\n",
    "    result_array.append(np.random.random(4))\n",
    "    \n",
    "a = np.array(result_array, dtype=float)\n",
    "a"
   ],
   "id": "632a509c02b4a016",
   "outputs": [
    {
     "data": {
      "text/plain": [
       "array([[0.65747449, 0.36821015, 0.00320404, 0.52557623],\n",
       "       [0.09601667, 0.93455856, 0.63924585, 0.75347186],\n",
       "       [0.21059049, 0.61382081, 0.02459921, 0.67521198],\n",
       "       [0.55455279, 0.4141005 , 0.12707749, 0.67168269]])"
      ]
     },
     "execution_count": 18,
     "metadata": {},
     "output_type": "execute_result"
    }
   ],
   "execution_count": 18
  },
  {
   "metadata": {},
   "cell_type": "markdown",
   "source": "5. Створіть два одновимірних масиви розміром 5, заповніть їх випадковими цілими числами в діапазоні від 1 до 10 та виконайте на них поелементні операції додавання, віднімання та множення.",
   "id": "67794bf656b40c85"
  },
  {
   "metadata": {
    "ExecuteTime": {
     "end_time": "2024-06-06T14:41:07.299038Z",
     "start_time": "2024-06-06T14:41:07.291640Z"
    }
   },
   "cell_type": "code",
   "source": [
    "arr_1 = np.random.randint(1, 10, 5)\n",
    "arr_2 = np.random.randint(1, 10, 5)\n",
    "\n",
    "arr_1 + arr_2, arr_1 - arr_2, arr_1 * arr_2,  "
   ],
   "id": "7d03db0db209b560",
   "outputs": [
    {
     "data": {
      "text/plain": [
       "(array([ 5, 13,  9,  5,  8]),\n",
       " array([-1, -5,  3,  3,  0]),\n",
       " array([ 6, 36, 18,  4, 16]))"
      ]
     },
     "execution_count": 23,
     "metadata": {},
     "output_type": "execute_result"
    }
   ],
   "execution_count": 23
  },
  {
   "metadata": {},
   "cell_type": "markdown",
   "source": "6. Створіть два вектори розміром 7, заповніть довільними числами та знайдіть їх скалярний добуток.",
   "id": "cb78146a5b6b151e"
  },
  {
   "metadata": {
    "ExecuteTime": {
     "end_time": "2024-06-07T13:30:41.694785Z",
     "start_time": "2024-06-07T13:30:41.685150Z"
    }
   },
   "cell_type": "code",
   "source": [
    "arr_1 = np.random.randint(1, 10, 7)\n",
    "arr_2 = np.random.randint(1, 10, 7)\n",
    "\n",
    "np.dot(arr_1, arr_2)"
   ],
   "id": "26216099d24f6947",
   "outputs": [
    {
     "data": {
      "text/plain": [
       "157"
      ]
     },
     "execution_count": 55,
     "metadata": {},
     "output_type": "execute_result"
    }
   ],
   "execution_count": 55
  },
  {
   "metadata": {},
   "cell_type": "markdown",
   "source": "7. Створіть дві матриці розміром 2x2 та 2x3, заповніть їх випадковими цілими числами в діапазоні від 1 до 10 та перемножте їх між собою.",
   "id": "a87c1b6abe89dd05"
  },
  {
   "metadata": {
    "ExecuteTime": {
     "end_time": "2024-06-07T07:13:35.030022Z",
     "start_time": "2024-06-07T07:13:35.000525Z"
    }
   },
   "cell_type": "code",
   "source": [
    "result_array = []\n",
    "for _ in range(2):\n",
    "    result_array.append([j for j in np.random.randint(1, 10, 2)])\n",
    "m1 = np.array(result_array, dtype=int)    \n",
    "    \n",
    "result_array = []\n",
    "for _ in range(2):\n",
    "    result_array.append([j for j in np.random.randint(1, 10, 3)])\n",
    "m2 = np.array(result_array, dtype=int)      \n",
    " \n",
    "m3 = np.dot(m1, m2)\n",
    "m3"
   ],
   "id": "cd62cd6528cceea8",
   "outputs": [
    {
     "data": {
      "text/plain": [
       "array([[40, 38, 22],\n",
       "       [12, 25,  9]])"
      ]
     },
     "execution_count": 15,
     "metadata": {},
     "output_type": "execute_result"
    }
   ],
   "execution_count": 15
  },
  {
   "metadata": {},
   "cell_type": "markdown",
   "source": "8. Створіть матрицю розміром 3x3, заповніть її випадковими цілими числами в діапазоні від 1 до 10 та знайдіть її обернену матрицю.",
   "id": "85775fde9fab1678"
  },
  {
   "metadata": {
    "ExecuteTime": {
     "end_time": "2024-06-07T07:17:17.775222Z",
     "start_time": "2024-06-07T07:17:17.764919Z"
    }
   },
   "cell_type": "code",
   "source": [
    "result_array = []\n",
    "for _ in range(3):\n",
    "    result_array.append([j for j in np.random.randint(1, 10, 3)])\n",
    "m1 = np.array(result_array, dtype=int)\n",
    "\n",
    "m1_inv = np.linalg.inv(m1)\n",
    "\n",
    "m1_inv"
   ],
   "id": "48ca3972d9c9ab2e",
   "outputs": [
    {
     "data": {
      "text/plain": [
       "array([[ 5.76923077e-01, -6.79487179e-01,  5.00000000e-01],\n",
       "       [ 1.53846154e-01, -2.56410256e-02, -1.81014624e-18],\n",
       "       [-8.07692308e-01,  8.84615385e-01, -5.00000000e-01]])"
      ]
     },
     "execution_count": 18,
     "metadata": {},
     "output_type": "execute_result"
    }
   ],
   "execution_count": 18
  },
  {
   "metadata": {},
   "cell_type": "markdown",
   "source": "9. Створіть матрицю розміром 4x4, заповніть її випадковими дійсними числами в діапазоні від 0 до 1 та транспонуйте її.",
   "id": "6e7517bc36cf58f5"
  },
  {
   "metadata": {
    "ExecuteTime": {
     "end_time": "2024-06-07T12:59:30.282284Z",
     "start_time": "2024-06-07T12:59:30.272468Z"
    }
   },
   "cell_type": "code",
   "source": [
    "result_array = []\n",
    "for _ in range(4):\n",
    "    result_array.append([j for j in np.random.random(4)])\n",
    "m1 = np.array(result_array, dtype=float)\n",
    "\n",
    "m1.T"
   ],
   "id": "f7943b83af616e3f",
   "outputs": [
    {
     "data": {
      "text/plain": [
       "array([[0.67009986, 0.4782241 , 0.53793906, 0.67171471],\n",
       "       [0.27329185, 0.38685186, 0.11987227, 0.98337366],\n",
       "       [0.85442729, 0.51381589, 0.07794182, 0.55026003],\n",
       "       [0.52008294, 0.19520021, 0.29023774, 0.6496281 ]])"
      ]
     },
     "execution_count": 30,
     "metadata": {},
     "output_type": "execute_result"
    }
   ],
   "execution_count": 30
  },
  {
   "metadata": {},
   "cell_type": "markdown",
   "source": "10. Створіть матрицю розміром 3x4 та вектор розміром 4, заповніть їх випадковими цілими числами в діапазоні від 1 до 10 та перемножте матрицю на вектор.",
   "id": "175942364552cd90"
  },
  {
   "metadata": {
    "ExecuteTime": {
     "end_time": "2024-06-07T13:06:36.585985Z",
     "start_time": "2024-06-07T13:06:36.529230Z"
    }
   },
   "cell_type": "code",
   "source": [
    "result_array = []\n",
    "for _ in range(3):\n",
    "    result_array.append(np.array(np.random.randint(1, 10, 4), dtype=float))\n",
    "m1 = np.array(result_array, dtype=float)\n",
    "\n",
    "v1 = np.array(np.random.randint(1, 10, 4), dtype=float)\n",
    "\n",
    "c = np.dot(m1, v1)\n",
    "c"
   ],
   "id": "bb6de7aa490925c5",
   "outputs": [
    {
     "data": {
      "text/plain": [
       "array([142., 144., 169.])"
      ]
     },
     "execution_count": 33,
     "metadata": {},
     "output_type": "execute_result"
    }
   ],
   "execution_count": 33
  },
  {
   "metadata": {},
   "cell_type": "markdown",
   "source": "11. Створіть матрицю розміром 2x3 та вектор розміром 3, заповніть їх випадковими дійсними числами в діапазоні від 0 до 1 та перемножте матрицю на вектор. ",
   "id": "c549d57dd8b3c736"
  },
  {
   "metadata": {
    "ExecuteTime": {
     "end_time": "2024-06-07T13:08:46.697689Z",
     "start_time": "2024-06-07T13:08:46.688012Z"
    }
   },
   "cell_type": "code",
   "source": [
    "result_array = []\n",
    "for _ in range(2):\n",
    "    result_array.append([j for j in np.random.random(3)])\n",
    "m1 = np.array(result_array, dtype=float)\n",
    "\n",
    "v1 = np.array(np.random.random(3), dtype=float)\n",
    "\n",
    "c = np.dot(m1, v1)\n",
    "c"
   ],
   "id": "d4087f75f11b5d9d",
   "outputs": [
    {
     "data": {
      "text/plain": [
       "array([0.85143374, 0.67712915])"
      ]
     },
     "execution_count": 37,
     "metadata": {},
     "output_type": "execute_result"
    }
   ],
   "execution_count": 37
  },
  {
   "metadata": {},
   "cell_type": "markdown",
   "source": "12. Створіть дві матриці розміром 2x2, заповніть їх випадковими цілими числами в діапазоні від 1 до 10 та виконайте їхнє поелементне множення.",
   "id": "1ee1a326a5fe39ba"
  },
  {
   "metadata": {
    "ExecuteTime": {
     "end_time": "2024-06-07T13:12:16.148659Z",
     "start_time": "2024-06-07T13:12:16.136972Z"
    }
   },
   "cell_type": "code",
   "source": [
    "result_array = []\n",
    "for _ in range(2):\n",
    "    result_array.append([j for j in np.random.randint(1, 10, 2)])\n",
    "m1 = np.array(result_array, dtype=int)    \n",
    "    \n",
    "result_array = []\n",
    "for _ in range(2):\n",
    "    result_array.append([j for j in np.random.randint(1, 10, 2)])\n",
    "m2 = np.array(result_array, dtype=int)   \n",
    "\n",
    "c = m1 * m2\n",
    "c"
   ],
   "id": "48627513a7b627e7",
   "outputs": [
    {
     "data": {
      "text/plain": [
       "array([[10, 24],\n",
       "       [72, 10]])"
      ]
     },
     "execution_count": 38,
     "metadata": {},
     "output_type": "execute_result"
    }
   ],
   "execution_count": 38
  },
  {
   "metadata": {},
   "cell_type": "markdown",
   "source": "13. Створіть дві матриці розміром 2x2, заповніть їх випадковими цілими числами в діапазоні від 1 до 10 та знайдіть їх добуток.",
   "id": "212270c65c9fe448"
  },
  {
   "metadata": {
    "ExecuteTime": {
     "end_time": "2024-06-07T13:12:57.082390Z",
     "start_time": "2024-06-07T13:12:57.071558Z"
    }
   },
   "cell_type": "code",
   "source": [
    "result_array = []\n",
    "for _ in range(2):\n",
    "    result_array.append([j for j in np.random.randint(1, 10, 2)])\n",
    "m1 = np.array(result_array, dtype=int)    \n",
    "    \n",
    "result_array = []\n",
    "for _ in range(2):\n",
    "    result_array.append([j for j in np.random.randint(1, 10, 2)])\n",
    "m2 = np.array(result_array, dtype=int)   \n",
    "\n",
    "c = np.dot(m1, m2)\n",
    "c"
   ],
   "id": "522d8bdbd3b775d5",
   "outputs": [
    {
     "data": {
      "text/plain": [
       "array([[ 87,  35],\n",
       "       [108,  72]])"
      ]
     },
     "execution_count": 39,
     "metadata": {},
     "output_type": "execute_result"
    }
   ],
   "execution_count": 39
  },
  {
   "metadata": {},
   "cell_type": "markdown",
   "source": "14. Створіть матрицю розміром 5x5, заповніть її випадковими цілими числами в діапазоні від 1 до 100 та знайдіть суму елементів матриці.",
   "id": "a8327d3f0995698a"
  },
  {
   "metadata": {
    "ExecuteTime": {
     "end_time": "2024-06-07T13:15:06.066946Z",
     "start_time": "2024-06-07T13:15:06.041765Z"
    }
   },
   "cell_type": "code",
   "source": [
    "result_array = []\n",
    "for _ in range(5):\n",
    "    result_array.append([j for j in np.random.randint(1, 100, 5)])\n",
    "m1 = np.array(result_array, dtype=int)    \n",
    "\n",
    "m1.sum()"
   ],
   "id": "2e39e6866c59d6ea",
   "outputs": [
    {
     "data": {
      "text/plain": [
       "1042"
      ]
     },
     "execution_count": 41,
     "metadata": {},
     "output_type": "execute_result"
    }
   ],
   "execution_count": 41
  },
  {
   "metadata": {},
   "cell_type": "markdown",
   "source": "15. Створіть дві матриці розміром 4x4, заповніть їх випадковими цілими числами в діапазоні від 1 до 10 та знайдіть їхню різницю.",
   "id": "a7a26182ef81cd8"
  },
  {
   "metadata": {
    "ExecuteTime": {
     "end_time": "2024-06-07T13:16:10.345378Z",
     "start_time": "2024-06-07T13:16:10.335136Z"
    }
   },
   "cell_type": "code",
   "source": [
    "result_array = []\n",
    "for _ in range(4):\n",
    "    result_array.append([j for j in np.random.randint(1, 10, 4)])\n",
    "m1 = np.array(result_array, dtype=int)    \n",
    "    \n",
    "result_array = []\n",
    "for _ in range(4):\n",
    "    result_array.append([j for j in np.random.randint(1, 10, 4)])\n",
    "m2 = np.array(result_array, dtype=int)   \n",
    "\n",
    "c = m1 - m2\n",
    "c"
   ],
   "id": "74ee98a07d302fa4",
   "outputs": [
    {
     "data": {
      "text/plain": [
       "array([[ 3, -5,  7,  0],\n",
       "       [ 1,  6,  4, -1],\n",
       "       [ 6, -6,  1,  0],\n",
       "       [-1, -3,  3, -3]])"
      ]
     },
     "execution_count": 43,
     "metadata": {},
     "output_type": "execute_result"
    }
   ],
   "execution_count": 43
  },
  {
   "metadata": {},
   "cell_type": "markdown",
   "source": "16. Створіть матрицю розміром 3x3, заповніть її випадковими дійсними числами в діапазоні від 0 до 1 та знайдіть вектор-стовпчик, що містить суму елементів кожного рядка матриці.",
   "id": "8cc13553cc939ce2"
  },
  {
   "metadata": {
    "ExecuteTime": {
     "end_time": "2024-06-07T13:22:15.371462Z",
     "start_time": "2024-06-07T13:22:15.360512Z"
    }
   },
   "cell_type": "code",
   "source": [
    "result_array = []\n",
    "for _ in range(3):\n",
    "    result_array.append([j for j in np.random.random(3)])\n",
    "m1 = np.array(result_array, dtype=float)\n",
    "\n",
    "print(m1)\n",
    "\n",
    "c = np.array([np.sum(row) for row in m1])\n",
    "c"
   ],
   "id": "5cfb5e84739533f8",
   "outputs": [
    {
     "name": "stdout",
     "output_type": "stream",
     "text": [
      "[[0.22907728 0.95276649 0.03835184]\n",
      " [0.13362249 0.43825082 0.12419636]\n",
      " [0.45223309 0.34927199 0.38223188]]\n"
     ]
    },
    {
     "data": {
      "text/plain": [
       "array([1.22019561, 0.69606967, 1.18373697])"
      ]
     },
     "execution_count": 48,
     "metadata": {},
     "output_type": "execute_result"
    }
   ],
   "execution_count": 48
  },
  {
   "metadata": {},
   "cell_type": "markdown",
   "source": "17. Створіть матрицю розміром 3x4 з довільними цілими числами і створінь матрицю з квадратами цих чисел.",
   "id": "ea408b1202049cb7"
  },
  {
   "metadata": {
    "ExecuteTime": {
     "end_time": "2024-06-07T13:25:48.154178Z",
     "start_time": "2024-06-07T13:25:48.144783Z"
    }
   },
   "cell_type": "code",
   "source": [
    "result_array = []\n",
    "for _ in range(3):\n",
    "    result_array.append([j for j in np.random.randint(1, 100, 4)])\n",
    "m1 = np.array(result_array, dtype=int)    \n",
    "print (m1)\n",
    "\n",
    "m2 = m1 * m1\n",
    "m2"
   ],
   "id": "f4cfa2b45a66dc5e",
   "outputs": [
    {
     "name": "stdout",
     "output_type": "stream",
     "text": [
      "[[86 71 76 70]\n",
      " [ 7 14 70 45]\n",
      " [49 51  7 39]]\n"
     ]
    },
    {
     "data": {
      "text/plain": [
       "array([[7396, 5041, 5776, 4900],\n",
       "       [  49,  196, 4900, 2025],\n",
       "       [2401, 2601,   49, 1521]])"
      ]
     },
     "execution_count": 51,
     "metadata": {},
     "output_type": "execute_result"
    }
   ],
   "execution_count": 51
  },
  {
   "metadata": {},
   "cell_type": "markdown",
   "source": "18. Створіть вектор розміром 4, заповніть його випадковими цілими числами в діапазоні від 1 до 50 та знайдіть вектор з квадратними коренями цих чисел.",
   "id": "9cd9adeab811cdda"
  },
  {
   "metadata": {
    "ExecuteTime": {
     "end_time": "2024-06-07T13:32:12.657576Z",
     "start_time": "2024-06-07T13:32:12.647570Z"
    }
   },
   "cell_type": "code",
   "source": [
    "v1 = np.array(np.random.randint(1, 50, 4), dtype=float)\n",
    "\n",
    "print(v1)\n",
    "\n",
    "v2 = np.array([x ** 0.5 for x in v1], dtype=float)\n",
    "v2"
   ],
   "id": "5d74e72d1e4d5542",
   "outputs": [
    {
     "name": "stdout",
     "output_type": "stream",
     "text": [
      "[28. 34. 40. 21.]\n"
     ]
    },
    {
     "data": {
      "text/plain": [
       "array([5.29150262, 5.83095189, 6.32455532, 4.58257569])"
      ]
     },
     "execution_count": 59,
     "metadata": {},
     "output_type": "execute_result"
    }
   ],
   "execution_count": 59
  }
 ],
 "metadata": {
  "kernelspec": {
   "display_name": "Python 3",
   "language": "python",
   "name": "python3"
  },
  "language_info": {
   "codemirror_mode": {
    "name": "ipython",
    "version": 2
   },
   "file_extension": ".py",
   "mimetype": "text/x-python",
   "name": "python",
   "nbconvert_exporter": "python",
   "pygments_lexer": "ipython2",
   "version": "2.7.6"
  }
 },
 "nbformat": 4,
 "nbformat_minor": 5
}
