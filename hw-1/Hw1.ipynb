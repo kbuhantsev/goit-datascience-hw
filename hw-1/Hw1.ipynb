{
 "cells": [
  {
   "cell_type": "code",
   "id": "initial_id",
   "metadata": {
    "collapsed": true,
    "ExecuteTime": {
     "end_time": "2024-06-06T14:38:54.873369Z",
     "start_time": "2024-06-06T14:38:54.868184Z"
    }
   },
   "source": "import numpy as np",
   "outputs": [],
   "execution_count": 14
  },
  {
   "metadata": {},
   "cell_type": "markdown",
   "source": "1. Створіть одновимірний масив (вектор) з першими 10-ма натуральними числами та виведіть його значення.",
   "id": "1e5063161e4aed4d"
  },
  {
   "metadata": {
    "ExecuteTime": {
     "end_time": "2024-06-06T14:38:54.937988Z",
     "start_time": "2024-06-06T14:38:54.926370Z"
    }
   },
   "cell_type": "code",
   "source": [
    "a = np.array([i for i in range(1,11)], dtype=float)\n",
    "a"
   ],
   "id": "618f0b16aa08addf",
   "outputs": [
    {
     "data": {
      "text/plain": [
       "array([ 1.,  2.,  3.,  4.,  5.,  6.,  7.,  8.,  9., 10.])"
      ]
     },
     "execution_count": 15,
     "metadata": {},
     "output_type": "execute_result"
    }
   ],
   "execution_count": 15
  },
  {
   "metadata": {},
   "cell_type": "markdown",
   "source": "2. Створіть двовимірний масив (матрицю) розміром 3x3, заповніть його нулями та виведіть його значення.",
   "id": "9315d249b6b8d17d"
  },
  {
   "metadata": {
    "ExecuteTime": {
     "end_time": "2024-06-06T14:38:54.959086Z",
     "start_time": "2024-06-06T14:38:54.949717Z"
    }
   },
   "cell_type": "code",
   "source": [
    "result_array = []\n",
    "for _ in [0,0,0]:\n",
    "    result_array.append([j for j in [0,0,0]])\n",
    "    \n",
    "a = np.array(result_array, dtype=float)\n",
    "a"
   ],
   "id": "5559dcd66fccc3e0",
   "outputs": [
    {
     "data": {
      "text/plain": [
       "array([[0., 0., 0.],\n",
       "       [0., 0., 0.],\n",
       "       [0., 0., 0.]])"
      ]
     },
     "execution_count": 16,
     "metadata": {},
     "output_type": "execute_result"
    }
   ],
   "execution_count": 16
  },
  {
   "metadata": {},
   "cell_type": "markdown",
   "source": "3. Створіть масив розміром 5x5, заповніть його випадковими цілими числами в діапазоні від 1 до 10 та виведіть його значення.",
   "id": "179a3e4a6958b648"
  },
  {
   "metadata": {
    "ExecuteTime": {
     "end_time": "2024-06-06T14:38:54.991955Z",
     "start_time": "2024-06-06T14:38:54.983455Z"
    }
   },
   "cell_type": "code",
   "source": [
    "result_array = []\n",
    "for _ in range(5):\n",
    "    result_array.append(np.random.randint(1, 10, 5))\n",
    "    \n",
    "a = np.array(result_array, dtype=float)\n",
    "a"
   ],
   "id": "cbb9eb3ae9c4d517",
   "outputs": [
    {
     "data": {
      "text/plain": [
       "array([[7., 7., 8., 8., 5.],\n",
       "       [8., 7., 4., 3., 9.],\n",
       "       [2., 3., 4., 9., 9.],\n",
       "       [7., 4., 5., 8., 4.],\n",
       "       [2., 4., 1., 5., 3.]])"
      ]
     },
     "execution_count": 17,
     "metadata": {},
     "output_type": "execute_result"
    }
   ],
   "execution_count": 17
  },
  {
   "metadata": {},
   "cell_type": "markdown",
   "source": "4. Створіть масив розміром 4x4, заповніть його випадковими дійсними числами в діапазоні від 0 до 1 та виведіть його значення.",
   "id": "4ac0086ff965df3"
  },
  {
   "metadata": {
    "ExecuteTime": {
     "end_time": "2024-06-06T14:38:55.014094Z",
     "start_time": "2024-06-06T14:38:55.004307Z"
    }
   },
   "cell_type": "code",
   "source": [
    "result_array = []\n",
    "for _ in range(4):\n",
    "    result_array.append(np.random.random(4))\n",
    "    \n",
    "a = np.array(result_array, dtype=float)\n",
    "a"
   ],
   "id": "632a509c02b4a016",
   "outputs": [
    {
     "data": {
      "text/plain": [
       "array([[0.65747449, 0.36821015, 0.00320404, 0.52557623],\n",
       "       [0.09601667, 0.93455856, 0.63924585, 0.75347186],\n",
       "       [0.21059049, 0.61382081, 0.02459921, 0.67521198],\n",
       "       [0.55455279, 0.4141005 , 0.12707749, 0.67168269]])"
      ]
     },
     "execution_count": 18,
     "metadata": {},
     "output_type": "execute_result"
    }
   ],
   "execution_count": 18
  },
  {
   "metadata": {},
   "cell_type": "markdown",
   "source": "5. Створіть два одновимірних масиви розміром 5, заповніть їх випадковими цілими числами в діапазоні від 1 до 10 та виконайте на них поелементні операції додавання, віднімання та множення.",
   "id": "67794bf656b40c85"
  },
  {
   "metadata": {
    "ExecuteTime": {
     "end_time": "2024-06-06T14:41:07.299038Z",
     "start_time": "2024-06-06T14:41:07.291640Z"
    }
   },
   "cell_type": "code",
   "source": [
    "arr_1 = np.random.randint(1, 10, 5)\n",
    "arr_2 = np.random.randint(1, 10, 5)\n",
    "\n",
    "arr_1 + arr_2, arr_1 - arr_2, arr_1 * arr_2,  "
   ],
   "id": "7d03db0db209b560",
   "outputs": [
    {
     "data": {
      "text/plain": [
       "(array([ 5, 13,  9,  5,  8]),\n",
       " array([-1, -5,  3,  3,  0]),\n",
       " array([ 6, 36, 18,  4, 16]))"
      ]
     },
     "execution_count": 23,
     "metadata": {},
     "output_type": "execute_result"
    }
   ],
   "execution_count": 23
  },
  {
   "metadata": {},
   "cell_type": "markdown",
   "source": "6. Створіть два вектори розміром 7, заповніть довільними числами та знайдіть їх скалярний добуток.",
   "id": "cb78146a5b6b151e"
  },
  {
   "metadata": {
    "ExecuteTime": {
     "end_time": "2024-06-06T14:43:20.025372Z",
     "start_time": "2024-06-06T14:43:20.016780Z"
    }
   },
   "cell_type": "code",
   "source": [
    "arr_1 = np.random.randint(1, 10, 5)\n",
    "arr_2 = np.random.randint(1, 10, 5)\n",
    "\n",
    "np.dot(arr_1, arr_2)"
   ],
   "id": "26216099d24f6947",
   "outputs": [
    {
     "data": {
      "text/plain": [
       "70"
      ]
     },
     "execution_count": 24,
     "metadata": {},
     "output_type": "execute_result"
    }
   ],
   "execution_count": 24
  }
 ],
 "metadata": {
  "kernelspec": {
   "display_name": "Python 3",
   "language": "python",
   "name": "python3"
  },
  "language_info": {
   "codemirror_mode": {
    "name": "ipython",
    "version": 2
   },
   "file_extension": ".py",
   "mimetype": "text/x-python",
   "name": "python",
   "nbconvert_exporter": "python",
   "pygments_lexer": "ipython2",
   "version": "2.7.6"
  }
 },
 "nbformat": 4,
 "nbformat_minor": 5
}
